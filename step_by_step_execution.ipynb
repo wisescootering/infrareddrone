{
 "cells": [
  {
   "cell_type": "code",
   "execution_count": null,
   "metadata": {},
   "outputs": [],
   "source": [
    "%load_ext autoreload\n",
    "%autoreload 2\n",
    "\n",
    "import matplotlib.pyplot as plt\n",
    "from pathlib import Path\n",
    "from run import parse_arguments, configure, extract_flight_data, find_all_matching_pairs, select_matching_pairs, gather_metadata, image_processing_engine, analyzis, auto_angles_offset_pre_computation\n",
    "from utils.utils_IRdrone import add_offset_theoretical_angles\n",
    "# %matplotlib notebook\n",
    "%matplotlib inline\n",
    "\n"
   ]
  },
  {
   "cell_type": "code",
   "execution_count": null,
   "metadata": {},
   "outputs": [],
   "source": [
    "# --------------------------------------------------------------------------------------------------------------\n",
    "config_file_path = r\"D:\\Air-Mission\\FLY-test-GITHUB\\config.json\"\n",
    "# --------------------------------------------------------------------------------------------------------------"
   ]
  },
  {
   "cell_type": "code",
   "execution_count": null,
   "metadata": {},
   "outputs": [],
   "source": [
    "# 0 > Parse arguments, prepare configuration dictionary\n",
    "# --------------------------------------------------------------------------------------------------------------\n",
    "assert Path(config_file_path).exists(), \"please provide the path to the configuration .json file\"\n",
    "arguments = []\n",
    "arguments+= [\"--config\", config_file_path]\n",
    "arguments+= [\"--selection\", \"best-mapping\"]\n",
    "arguments+= [\"--offset\", \"auto\"]\n",
    "args = parse_arguments(arguments)\n",
    "conf = configure(args)\n",
    "\n"
   ]
  },
  {
   "cell_type": "code",
   "execution_count": null,
   "metadata": {},
   "outputs": [],
   "source": [
    "# 1 > Extraction of flight data\n",
    "# --------------------------------------------------------------------------------------------------------------\n",
    "flight_data_dict = extract_flight_data(conf[\"config_file\"])\n",
    "conf[\"out_images_folder\"] = flight_data_dict[\"out_images_folder\"]\n",
    "conf[\"timelapse_vis_interval\"] = flight_data_dict[\"timelapse_vis_interval\"]\n",
    "if conf[\"timelapse_vis_interval\"] <= 0:\n",
    "    conf[\"selection\"] = \"all\"\n",
    "flight_data_dict.keys()"
   ]
  },
  {
   "cell_type": "code",
   "execution_count": null,
   "metadata": {},
   "outputs": [],
   "source": [
    "# manually define your offset here!\n",
    "# flight_data_dict[\"offset_angles\"] = [0., 0., 0.]"
   ]
  },
  {
   "cell_type": "code",
   "execution_count": null,
   "metadata": {},
   "outputs": [],
   "source": [
    "# 2 > Find all matching pairs of images from both cameras\n",
    "# 3 > Then retrieve metadata from exifs & altitudes\n",
    "# --------------------------------------------------------------------------------------------------------------\n",
    "shooting_pts_list = find_all_matching_pairs(flight_data_dict)\n",
    "gather_metadata(flight_data_dict, shooting_pts_list, conf)\n",
    "print(shooting_pts_list[0])"
   ]
  },
  {
   "cell_type": "code",
   "execution_count": null,
   "metadata": {},
   "outputs": [],
   "source": [
    "# [4]> Pre-compute angles offset and add\n",
    "# --------------------------------------------------------------------------------------------------------------\n",
    "if conf[\"offset\"] == \"auto\":\n",
    "    offset_angles, _shooting_pts_offset_selection = auto_angles_offset_pre_computation(flight_data_dict, shooting_pts_list, configuration=conf)\n",
    "    add_offset_theoretical_angles(shooting_pts_list, offset=offset_angles)\n",
    "    print(shooting_pts_list[0])"
   ]
  },
  {
   "cell_type": "code",
   "execution_count": null,
   "metadata": {},
   "outputs": [],
   "source": [
    "# 5 > Selection of frames\n",
    "# --------------------------------------------------------------------------------------------------------------    \n",
    "shooting_pts_selection = select_matching_pairs(flight_data_dict, shooting_pts_list, configuration=conf, selection_option=conf.get(\"selection\", \"all\"))\n",
    "print(f\"selectected {len(shooting_pts_selection)}/{len(shooting_pts_list)} image pairs\")"
   ]
  },
  {
   "cell_type": "code",
   "execution_count": null,
   "metadata": {},
   "outputs": [],
   "source": [
    "# 6 > Image processing.\n",
    "# --------------------------------------------------------------------------------------------------------------\n",
    "matched_images_paths_selection = list(map(lambda pt: (pt.Vis, pt.Nir), shooting_pts_selection))\n",
    "image_processing_engine(matched_images_paths_selection, shooting_pts_selection, odm_multispectral=conf[\"odm_multispectral\"], traces=conf[\"traces\"], configuration=conf, skip=True)\n",
    "print(shooting_pts_selection[0])"
   ]
  },
  {
   "cell_type": "code",
   "execution_count": null,
   "metadata": {},
   "outputs": [],
   "source": [
    "# 8 > Analysis\n",
    "# --------------------------------------------------------------------------------------------------------------\n",
    "    \n",
    "# analyzis(flight_data_dict, shooting_pts_selection, configuration=conf)\n",
    "analyzis(flight_data_dict, shooting_pts_list, configuration=conf)"
   ]
  },
  {
   "cell_type": "code",
   "execution_count": null,
   "metadata": {},
   "outputs": [],
   "source": []
  }
 ],
 "metadata": {
  "kernelspec": {
   "display_name": "Python 3",
   "language": "python",
   "name": "python3"
  },
  "language_info": {
   "codemirror_mode": {
    "name": "ipython",
    "version": 3
   },
   "file_extension": ".py",
   "mimetype": "text/x-python",
   "name": "python",
   "nbconvert_exporter": "python",
   "pygments_lexer": "ipython3",
   "version": "3.9.15"
  },
  "vscode": {
   "interpreter": {
    "hash": "08f40bcf128622cf496009448ed7222103f65a78b7172ab035e2a112320ce36e"
   }
  }
 },
 "nbformat": 4,
 "nbformat_minor": 2
}
